{
  "nbformat": 4,
  "nbformat_minor": 0,
  "metadata": {
    "colab": {
      "name": "SKLearn Cross Validation",
      "provenance": [],
      "collapsed_sections": [],
      "authorship_tag": "ABX9TyOoXDparsq/bLdb7JvHM9Qy",
      "include_colab_link": true
    },
    "kernelspec": {
      "name": "python3",
      "display_name": "Python 3"
    }
  },
  "cells": [
    {
      "cell_type": "markdown",
      "metadata": {
        "id": "view-in-github",
        "colab_type": "text"
      },
      "source": [
        "<a href=\"https://colab.research.google.com/github/rifqisetiawaan/cross-validation-sklearn/blob/master/SKLearn_Cross_Validation.ipynb\" target=\"_parent\"><img src=\"https://colab.research.google.com/assets/colab-badge.svg\" alt=\"Open In Colab\"/></a>"
      ]
    },
    {
      "cell_type": "code",
      "metadata": {
        "id": "lthdx7rOmAQd",
        "colab_type": "code",
        "colab": {}
      },
      "source": [
        "# Import Library and load the data\n",
        "\n",
        "import sklearn\n",
        "from sklearn import datasets\n",
        "from sklearn.model_selection import cross_val_score\n",
        "from sklearn import tree\n",
        "iris = datasets.load_iris()"
      ],
      "execution_count": 0,
      "outputs": []
    },
    {
      "cell_type": "code",
      "metadata": {
        "id": "0u7pM6MSqR74",
        "colab_type": "code",
        "colab": {}
      },
      "source": [
        "# Divide the attribute and label of the datasets\n",
        "\n",
        "x = iris.data\n",
        "y = iris.target"
      ],
      "execution_count": 0,
      "outputs": []
    },
    {
      "cell_type": "code",
      "metadata": {
        "id": "yHxBJNcyqhe3",
        "colab_type": "code",
        "colab": {}
      },
      "source": [
        "# in this case, We are using decision tree for classification\n",
        "\n",
        "clf = tree.DecisionTreeClassifier()"
      ],
      "execution_count": 0,
      "outputs": []
    },
    {
      "cell_type": "code",
      "metadata": {
        "id": "nyml-qnJq5Yh",
        "colab_type": "code",
        "outputId": "9248b96d-8a04-4002-e8d4-554768201834",
        "colab": {
          "base_uri": "https://localhost:8080/",
          "height": 34
        }
      },
      "source": [
        "# Use cross validation to test the performance of this Machine Learning Model\n",
        "\n",
        "scores = cross_val_score(clf, x, y, cv = 5)\n",
        "scores"
      ],
      "execution_count": 0,
      "outputs": [
        {
          "output_type": "execute_result",
          "data": {
            "text/plain": [
              "array([0.96666667, 0.96666667, 0.9       , 0.96666667, 1.        ])"
            ]
          },
          "metadata": {
            "tags": []
          },
          "execution_count": 6
        }
      ]
    },
    {
      "cell_type": "code",
      "metadata": {
        "id": "Spm71q7rrUsI",
        "colab_type": "code",
        "colab": {}
      },
      "source": [
        "# Look, the accuracy is up to 90%. so, its a good model"
      ],
      "execution_count": 0,
      "outputs": []
    }
  ]
}